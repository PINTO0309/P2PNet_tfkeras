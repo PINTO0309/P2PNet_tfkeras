{
 "cells": [
  {
   "cell_type": "code",
   "execution_count": 1,
   "metadata": {},
   "outputs": [
    {
     "name": "stdout",
     "output_type": "stream",
     "text": [
      "/home2/synthetic_seeds/2023/p2p4\n"
     ]
    }
   ],
   "source": [
    "# change current directory to parent so that importing custom utils are simple\n",
    "%cd ../"
   ]
  },
  {
   "cell_type": "code",
   "execution_count": 2,
   "metadata": {},
   "outputs": [
    {
     "name": "stderr",
     "output_type": "stream",
     "text": [
      "2023-04-27 19:25:42.502943: I tensorflow/core/platform/cpu_feature_guard.cc:182] This TensorFlow binary is optimized to use available CPU instructions in performance-critical operations.\n",
      "To enable the following instructions: AVX2 FMA, in other operations, rebuild TensorFlow with the appropriate compiler flags.\n",
      "2023-04-27 19:25:43.102144: W tensorflow/compiler/tf2tensorrt/utils/py_utils.cc:38] TF-TRT Warning: Could not find TensorRT\n"
     ]
    }
   ],
   "source": [
    "import os\n",
    "import cv2\n",
    "import tensorflow as tf\n",
    "import numpy as np\n",
    "import matplotlib.pyplot as plt\n",
    "from utils.general import pad, postprocess"
   ]
  },
  {
   "cell_type": "code",
   "execution_count": 4,
   "metadata": {},
   "outputs": [
    {
     "name": "stderr",
     "output_type": "stream",
     "text": [
      "2023-04-27 19:25:54.656060: I tensorflow/core/common_runtime/gpu/gpu_device.cc:1635] Created device /job:localhost/replica:0/task:0/device:GPU:0 with 15348 MB memory:  -> device: 0, name: Quadro GP100, pci bus id: 0000:05:00.0, compute capability: 6.0\n",
      "2023-04-27 19:25:54.656596: I tensorflow/core/common_runtime/gpu/gpu_device.cc:1635] Created device /job:localhost/replica:0/task:0/device:GPU:1 with 15348 MB memory:  -> device: 1, name: Quadro GP100, pci bus id: 0000:06:00.0, compute capability: 6.0\n",
      "2023-04-27 19:25:54.657093: I tensorflow/core/common_runtime/gpu/gpu_device.cc:1635] Created device /job:localhost/replica:0/task:0/device:GPU:2 with 15348 MB memory:  -> device: 2, name: Quadro GP100, pci bus id: 0000:09:00.0, compute capability: 6.0\n",
      "2023-04-27 19:25:54.657588: I tensorflow/core/common_runtime/gpu/gpu_device.cc:1635] Created device /job:localhost/replica:0/task:0/device:GPU:3 with 15321 MB memory:  -> device: 3, name: Quadro GP100, pci bus id: 0000:0a:00.0, compute capability: 6.0\n"
     ]
    },
    {
     "name": "stdout",
     "output_type": "stream",
     "text": [
      "WARNING:tensorflow:No training configuration found in save file, so the model was *not* compiled. Compile it manually.\n"
     ]
    }
   ],
   "source": [
    "# load model\n",
    "model = tf.keras.models.load_model(\"weights/SavedModel/\")"
   ]
  },
  {
   "cell_type": "code",
   "execution_count": 5,
   "metadata": {},
   "outputs": [
    {
     "ename": "ValueError",
     "evalue": "in user code:\n\n    File \"/home/yosuke/anaconda3/envs/tf/lib/python3.9/site-packages/keras/engine/training.py\", line 2169, in predict_function  *\n        return step_function(self, iterator)\n    File \"/home/yosuke/anaconda3/envs/tf/lib/python3.9/site-packages/keras/engine/training.py\", line 2155, in step_function  **\n        outputs = model.distribute_strategy.run(run_step, args=(data,))\n    File \"/home/yosuke/anaconda3/envs/tf/lib/python3.9/site-packages/keras/engine/training.py\", line 2143, in run_step  **\n        outputs = model.predict_step(data)\n    File \"/home/yosuke/anaconda3/envs/tf/lib/python3.9/site-packages/keras/engine/training.py\", line 2111, in predict_step\n        return self(x, training=False)\n    File \"/home/yosuke/anaconda3/envs/tf/lib/python3.9/site-packages/keras/utils/traceback_utils.py\", line 70, in error_handler\n        raise e.with_traceback(filtered_tb) from None\n\n    ValueError: Could not find matching concrete function to call loaded from the SavedModel. Got:\n      Positional arguments (1 total):\n        * <tf.Tensor 'inputs:0' shape=(None, 768, 1152, 3) dtype=float32>\n      Keyword arguments: {'training': False}\n    \n     Expected these arguments to match one of the following 4 option(s):\n    \n    Option 1:\n      Positional arguments (1 total):\n        * TensorSpec(shape=(None, 128, 128, 3), dtype=tf.float32, name='input_1')\n      Keyword arguments: {'training': True}\n    \n    Option 2:\n      Positional arguments (1 total):\n        * TensorSpec(shape=(None, 128, 128, 3), dtype=tf.float32, name='input_1')\n      Keyword arguments: {'training': False}\n    \n    Option 3:\n      Positional arguments (1 total):\n        * TensorSpec(shape=(None, 128, 128, 3), dtype=tf.float32, name='inputs')\n      Keyword arguments: {'training': True}\n    \n    Option 4:\n      Positional arguments (1 total):\n        * TensorSpec(shape=(None, 128, 128, 3), dtype=tf.float32, name='inputs')\n      Keyword arguments: {'training': False}\n",
     "output_type": "error",
     "traceback": [
      "\u001b[0;31m---------------------------------------------------------------------------\u001b[0m",
      "\u001b[0;31mValueError\u001b[0m                                Traceback (most recent call last)",
      "Cell \u001b[0;32mIn[5], line 9\u001b[0m\n\u001b[1;32m      6\u001b[0m image \u001b[39m=\u001b[39m cv2\u001b[39m.\u001b[39mcvtColor(image, cv2\u001b[39m.\u001b[39mCOLOR_BGR2RGB) \u001b[39m# this depends on the model\u001b[39;00m\n\u001b[1;32m      7\u001b[0m image \u001b[39m=\u001b[39m pad(image)\n\u001b[0;32m----> 9\u001b[0m pred \u001b[39m=\u001b[39m model\u001b[39m.\u001b[39;49mpredict(np\u001b[39m.\u001b[39;49mexpand_dims(image\u001b[39m.\u001b[39;49mastype(np\u001b[39m.\u001b[39;49mfloat32), axis\u001b[39m=\u001b[39;49m\u001b[39m0\u001b[39;49m))[\u001b[39m0\u001b[39m]\n\u001b[1;32m     10\u001b[0m coords \u001b[39m=\u001b[39m postprocess(pred)\n\u001b[1;32m     11\u001b[0m \u001b[39mfor\u001b[39;00m coord \u001b[39min\u001b[39;00m coords:\n",
      "File \u001b[0;32m~/anaconda3/envs/tf/lib/python3.9/site-packages/keras/utils/traceback_utils.py:70\u001b[0m, in \u001b[0;36mfilter_traceback.<locals>.error_handler\u001b[0;34m(*args, **kwargs)\u001b[0m\n\u001b[1;32m     67\u001b[0m     filtered_tb \u001b[39m=\u001b[39m _process_traceback_frames(e\u001b[39m.\u001b[39m__traceback__)\n\u001b[1;32m     68\u001b[0m     \u001b[39m# To get the full stack trace, call:\u001b[39;00m\n\u001b[1;32m     69\u001b[0m     \u001b[39m# `tf.debugging.disable_traceback_filtering()`\u001b[39;00m\n\u001b[0;32m---> 70\u001b[0m     \u001b[39mraise\u001b[39;00m e\u001b[39m.\u001b[39mwith_traceback(filtered_tb) \u001b[39mfrom\u001b[39;00m \u001b[39mNone\u001b[39m\n\u001b[1;32m     71\u001b[0m \u001b[39mfinally\u001b[39;00m:\n\u001b[1;32m     72\u001b[0m     \u001b[39mdel\u001b[39;00m filtered_tb\n",
      "File \u001b[0;32m/tmp/__autograph_generated_filen24lwa2a.py:15\u001b[0m, in \u001b[0;36mouter_factory.<locals>.inner_factory.<locals>.tf__predict_function\u001b[0;34m(iterator)\u001b[0m\n\u001b[1;32m     13\u001b[0m \u001b[39mtry\u001b[39;00m:\n\u001b[1;32m     14\u001b[0m     do_return \u001b[39m=\u001b[39m \u001b[39mTrue\u001b[39;00m\n\u001b[0;32m---> 15\u001b[0m     retval_ \u001b[39m=\u001b[39m ag__\u001b[39m.\u001b[39mconverted_call(ag__\u001b[39m.\u001b[39mld(step_function), (ag__\u001b[39m.\u001b[39mld(\u001b[39mself\u001b[39m), ag__\u001b[39m.\u001b[39mld(iterator)), \u001b[39mNone\u001b[39;00m, fscope)\n\u001b[1;32m     16\u001b[0m \u001b[39mexcept\u001b[39;00m:\n\u001b[1;32m     17\u001b[0m     do_return \u001b[39m=\u001b[39m \u001b[39mFalse\u001b[39;00m\n",
      "\u001b[0;31mValueError\u001b[0m: in user code:\n\n    File \"/home/yosuke/anaconda3/envs/tf/lib/python3.9/site-packages/keras/engine/training.py\", line 2169, in predict_function  *\n        return step_function(self, iterator)\n    File \"/home/yosuke/anaconda3/envs/tf/lib/python3.9/site-packages/keras/engine/training.py\", line 2155, in step_function  **\n        outputs = model.distribute_strategy.run(run_step, args=(data,))\n    File \"/home/yosuke/anaconda3/envs/tf/lib/python3.9/site-packages/keras/engine/training.py\", line 2143, in run_step  **\n        outputs = model.predict_step(data)\n    File \"/home/yosuke/anaconda3/envs/tf/lib/python3.9/site-packages/keras/engine/training.py\", line 2111, in predict_step\n        return self(x, training=False)\n    File \"/home/yosuke/anaconda3/envs/tf/lib/python3.9/site-packages/keras/utils/traceback_utils.py\", line 70, in error_handler\n        raise e.with_traceback(filtered_tb) from None\n\n    ValueError: Could not find matching concrete function to call loaded from the SavedModel. Got:\n      Positional arguments (1 total):\n        * <tf.Tensor 'inputs:0' shape=(None, 768, 1152, 3) dtype=float32>\n      Keyword arguments: {'training': False}\n    \n     Expected these arguments to match one of the following 4 option(s):\n    \n    Option 1:\n      Positional arguments (1 total):\n        * TensorSpec(shape=(None, 128, 128, 3), dtype=tf.float32, name='input_1')\n      Keyword arguments: {'training': True}\n    \n    Option 2:\n      Positional arguments (1 total):\n        * TensorSpec(shape=(None, 128, 128, 3), dtype=tf.float32, name='input_1')\n      Keyword arguments: {'training': False}\n    \n    Option 3:\n      Positional arguments (1 total):\n        * TensorSpec(shape=(None, 128, 128, 3), dtype=tf.float32, name='inputs')\n      Keyword arguments: {'training': True}\n    \n    Option 4:\n      Positional arguments (1 total):\n        * TensorSpec(shape=(None, 128, 128, 3), dtype=tf.float32, name='inputs')\n      Keyword arguments: {'training': False}\n"
     ]
    }
   ],
   "source": [
    "pardir = \"./resources/shha_test_images/\"\n",
    "files = os.listdir(pardir)\n",
    "for file in files:\n",
    "    path = os.path.join(pardir, file)\n",
    "    image = cv2.imread(path)\n",
    "    image = cv2.cvtColor(image, cv2.COLOR_BGR2RGB) # this depends on the model\n",
    "    image = pad(image)\n",
    "    \n",
    "    pred = model.predict(np.expand_dims(image.astype(np.float32), axis=0))[0]\n",
    "    coords = postprocess(pred)\n",
    "    for coord in coords:\n",
    "        cv2.circle(image, (int(coord[0]), int(coord[1])), 3, (255, 0, 0), -1)\n",
    "    plt.imshow(image)\n",
    "    plt.show() \n",
    "\n"
   ]
  },
  {
   "cell_type": "code",
   "execution_count": null,
   "metadata": {},
   "outputs": [],
   "source": []
  }
 ],
 "metadata": {
  "kernelspec": {
   "display_name": "tf",
   "language": "python",
   "name": "python3"
  },
  "language_info": {
   "codemirror_mode": {
    "name": "ipython",
    "version": 3
   },
   "file_extension": ".py",
   "mimetype": "text/x-python",
   "name": "python",
   "nbconvert_exporter": "python",
   "pygments_lexer": "ipython3",
   "version": "3.9.16"
  },
  "orig_nbformat": 4
 },
 "nbformat": 4,
 "nbformat_minor": 2
}
