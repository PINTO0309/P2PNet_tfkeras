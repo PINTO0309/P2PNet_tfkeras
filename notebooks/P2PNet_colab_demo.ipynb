{
  "cells": [
    {
      "cell_type": "markdown",
      "metadata": {
        "colab_type": "text",
        "id": "view-in-github"
      },
      "source": [
        "<a href=\"https://colab.research.google.com/github/totti0223/P2PNet_tfkeras/blob/master/notebooks/P2PNet_colab_demo.ipynb\" target=\"_parent\"><img src=\"https://colab.research.google.com/assets/colab-badge.svg\" alt=\"Open In Colab\"/></a>"
      ]
    },
    {
      "cell_type": "markdown",
      "metadata": {
        "id": "8dCwOftFDUeT"
      },
      "source": [
        "# Quick Demo of P2PNet_keras"
      ]
    },
    {
      "cell_type": "markdown",
      "metadata": {
        "id": "qfsAjW_SFeuF"
      },
      "source": [
        "**This model is not fully trained yet.**\n",
        "\n",
        "This notebook is for PoC understanding."
      ]
    },
    {
      "cell_type": "code",
      "execution_count": null,
      "metadata": {
        "id": "M8HWF9X9DI4B"
      },
      "outputs": [],
      "source": [
        "!pip install loguru >/dev/null"
      ]
    },
    {
      "cell_type": "code",
      "execution_count": null,
      "metadata": {
        "colab": {
          "base_uri": "https://localhost:8080/"
        },
        "id": "zakQzBtKCdF2",
        "outputId": "f8cc0481-8fce-4359-c605-1806c9bf1329"
      },
      "outputs": [],
      "source": [
        "!git clone https://github.com/totti0223/P2PNet_tfkeras.git"
      ]
    },
    {
      "cell_type": "code",
      "execution_count": null,
      "metadata": {
        "colab": {
          "base_uri": "https://localhost:8080/"
        },
        "id": "DJsMnqRxES0A",
        "outputId": "ba7556f8-0c7f-4c27-adaa-b75a42855317"
      },
      "outputs": [],
      "source": [
        "%cd P2PNet_tfkeras"
      ]
    },
    {
      "cell_type": "code",
      "execution_count": null,
      "metadata": {
        "id": "RSI2tOEkCk__"
      },
      "outputs": [],
      "source": [
        "import os\n",
        "import cv2\n",
        "import tensorflow as tf\n",
        "import tensorflow.keras.backend as K\n",
        "import numpy as np\n",
        "import matplotlib.pyplot as plt\n",
        "\n",
        "from utils.models import P2PNet\n",
        "from utils.general import pad, postprocess"
      ]
    },
    {
      "cell_type": "code",
      "execution_count": null,
      "metadata": {
        "id": "cR7WZaGFCt4Z"
      },
      "outputs": [],
      "source": [
        "# Restore the checkpoint file.\n",
        "# Due to the github file size limit, the weights are split into 3 parts.\n",
        "# In case of running in local environment, you dont have to do this but can directly load the ckpt in the following cell\n",
        "# !cat weights/ckpt/temp_VGG16_256_part_* > weights/ckpt/VGG16_256_860.data-00000-of-00001"
      ]
    },
    {
      "cell_type": "code",
      "execution_count": null,
      "metadata": {
        "colab": {
          "base_uri": "https://localhost:8080/"
        },
        "id": "xh3c7-7fC6He",
        "outputId": "429e8516-03a3-4cab-8baa-fe2d1d8b78ad"
      },
      "outputs": [],
      "source": [
        "# Load P2PModel\n",
        "K.clear_session()\n",
        "# model = P2PNet(feature_size=256, backbone_name=\"vgg16\", preprocessing=True)\n",
        "# model.load_weights(\"weights/ckpt/VGG16_256_860\")\n",
        "\n",
        "model = P2PNet(feature_size=256, backbone_name=\"mobilenetv3_large\", preprocessing=True)\n",
        "model.load_weights(\"weights/ckpt/shha_datasetA_MNV3_256_845\")"
      ]
    },
    {
      "cell_type": "code",
      "execution_count": null,
      "metadata": {
        "colab": {
          "base_uri": "https://localhost:8080/",
          "height": 1000
        },
        "id": "_t3YFWS8EFOF",
        "outputId": "c54eb863-f514-4ddb-d728-5a0805c890b4"
      },
      "outputs": [],
      "source": [
        "pardir = \"./resources/shha_test_images/\"\n",
        "files = os.listdir(pardir)\n",
        "for file in files:\n",
        "    path = os.path.join(pardir, file)\n",
        "    image = cv2.imread(path)\n",
        "    image = cv2.cvtColor(image, cv2.COLOR_BGR2RGB) # this depends on the model\n",
        "    image = pad(image)\n",
        "    \n",
        "    pred = model.predict(np.expand_dims(image.astype(np.float32), axis=0), verbose=0)[0]\n",
        "    coords = postprocess(pred)\n",
        "    for coord in coords:\n",
        "        cv2.circle(image, (int(coord[0]), int(coord[1])), 3, (0, 255, 0), -1)\n",
        "    plt.imshow(image)\n",
        "    plt.axis(\"off\")\n",
        "    plt.show() "
      ]
    },
    {
      "cell_type": "code",
      "execution_count": null,
      "metadata": {
        "id": "WAPrgewRE67_"
      },
      "outputs": [],
      "source": []
    }
  ],
  "metadata": {
    "accelerator": "GPU",
    "colab": {
      "authorship_tag": "ABX9TyPpSjrn2ft77iGYLJaIzDGg",
      "include_colab_link": true,
      "provenance": []
    },
    "gpuClass": "standard",
    "kernelspec": {
      "display_name": "Python 3",
      "name": "python3"
    },
    "language_info": {
      "name": "python"
    }
  },
  "nbformat": 4,
  "nbformat_minor": 0
}
